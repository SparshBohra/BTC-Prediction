{
 "cells": [
  {
   "cell_type": "markdown",
   "id": "retained-linux",
   "metadata": {
    "papermill": {
     "duration": 0.01442,
     "end_time": "2021-04-20T17:21:29.862362",
     "exception": false,
     "start_time": "2021-04-20T17:21:29.847942",
     "status": "completed"
    },
    "tags": []
   },
   "source": [
    "## Bitcoin Price Predication \n",
    "The goal of this code is to ascertain with what accuracy the direction of Bitcoin price in USD can be predicted. The price data is sourced from the Bitcoin Price Index."
   ]
  },
  {
   "cell_type": "code",
   "execution_count": 6,
   "id": "searching-beverage",
   "metadata": {},
   "outputs": [
    {
     "name": "stdout",
     "output_type": "stream",
     "text": [
      "Requirement already satisfied: tensorflow==2.4.1 in /Users/sparshbohra/opt/anaconda3/lib/python3.7/site-packages (2.4.1)\n",
      "Requirement already satisfied: tensorflow-estimator<2.5.0,>=2.4.0 in /Users/sparshbohra/opt/anaconda3/lib/python3.7/site-packages (from tensorflow==2.4.1) (2.4.0)\n",
      "Requirement already satisfied: h5py~=2.10.0 in /Users/sparshbohra/opt/anaconda3/lib/python3.7/site-packages (from tensorflow==2.4.1) (2.10.0)\n",
      "Requirement already satisfied: typing-extensions~=3.7.4 in /Users/sparshbohra/opt/anaconda3/lib/python3.7/site-packages (from tensorflow==2.4.1) (3.7.4.3)\n",
      "Requirement already satisfied: protobuf>=3.9.2 in /Users/sparshbohra/opt/anaconda3/lib/python3.7/site-packages (from tensorflow==2.4.1) (3.13.0)\n",
      "Requirement already satisfied: wheel~=0.35 in /Users/sparshbohra/opt/anaconda3/lib/python3.7/site-packages (from tensorflow==2.4.1) (0.36.2)\n",
      "Requirement already satisfied: absl-py~=0.10 in /Users/sparshbohra/opt/anaconda3/lib/python3.7/site-packages (from tensorflow==2.4.1) (0.11.0)\n",
      "Requirement already satisfied: astunparse~=1.6.3 in /Users/sparshbohra/opt/anaconda3/lib/python3.7/site-packages (from tensorflow==2.4.1) (1.6.3)\n",
      "Requirement already satisfied: numpy~=1.19.2 in /Users/sparshbohra/opt/anaconda3/lib/python3.7/site-packages (from tensorflow==2.4.1) (1.19.5)\n",
      "Requirement already satisfied: opt-einsum~=3.3.0 in /Users/sparshbohra/opt/anaconda3/lib/python3.7/site-packages (from tensorflow==2.4.1) (3.3.0)\n",
      "Requirement already satisfied: termcolor~=1.1.0 in /Users/sparshbohra/opt/anaconda3/lib/python3.7/site-packages (from tensorflow==2.4.1) (1.1.0)\n",
      "Requirement already satisfied: wrapt~=1.12.1 in /Users/sparshbohra/opt/anaconda3/lib/python3.7/site-packages (from tensorflow==2.4.1) (1.12.1)\n",
      "Requirement already satisfied: gast==0.3.3 in /Users/sparshbohra/opt/anaconda3/lib/python3.7/site-packages (from tensorflow==2.4.1) (0.3.3)\n",
      "Requirement already satisfied: six~=1.15.0 in /Users/sparshbohra/opt/anaconda3/lib/python3.7/site-packages (from tensorflow==2.4.1) (1.15.0)\n",
      "Requirement already satisfied: grpcio~=1.32.0 in /Users/sparshbohra/opt/anaconda3/lib/python3.7/site-packages (from tensorflow==2.4.1) (1.32.0)\n",
      "Requirement already satisfied: tensorboard~=2.4 in /Users/sparshbohra/opt/anaconda3/lib/python3.7/site-packages (from tensorflow==2.4.1) (2.5.0)\n",
      "Requirement already satisfied: keras-preprocessing~=1.1.2 in /Users/sparshbohra/opt/anaconda3/lib/python3.7/site-packages (from tensorflow==2.4.1) (1.1.2)\n",
      "Requirement already satisfied: google-pasta~=0.2 in /Users/sparshbohra/opt/anaconda3/lib/python3.7/site-packages (from tensorflow==2.4.1) (0.2.0)\n",
      "Requirement already satisfied: flatbuffers~=1.12.0 in /Users/sparshbohra/opt/anaconda3/lib/python3.7/site-packages (from tensorflow==2.4.1) (1.12)\n",
      "Requirement already satisfied: setuptools in /Users/sparshbohra/opt/anaconda3/lib/python3.7/site-packages (from protobuf>=3.9.2->tensorflow==2.4.1) (51.1.2.post20210112)\n",
      "Requirement already satisfied: requests<3,>=2.21.0 in /Users/sparshbohra/opt/anaconda3/lib/python3.7/site-packages (from tensorboard~=2.4->tensorflow==2.4.1) (2.25.1)\n",
      "Requirement already satisfied: google-auth-oauthlib<0.5,>=0.4.1 in /Users/sparshbohra/opt/anaconda3/lib/python3.7/site-packages (from tensorboard~=2.4->tensorflow==2.4.1) (0.4.1)\n",
      "Requirement already satisfied: tensorboard-plugin-wit>=1.6.0 in /Users/sparshbohra/opt/anaconda3/lib/python3.7/site-packages (from tensorboard~=2.4->tensorflow==2.4.1) (1.7.0)\n",
      "Requirement already satisfied: google-auth<2,>=1.6.3 in /Users/sparshbohra/opt/anaconda3/lib/python3.7/site-packages (from tensorboard~=2.4->tensorflow==2.4.1) (1.31.0)\n",
      "Requirement already satisfied: markdown>=2.6.8 in /Users/sparshbohra/opt/anaconda3/lib/python3.7/site-packages (from tensorboard~=2.4->tensorflow==2.4.1) (3.3.3)\n",
      "Requirement already satisfied: tensorboard-data-server<0.7.0,>=0.6.0 in /Users/sparshbohra/opt/anaconda3/lib/python3.7/site-packages (from tensorboard~=2.4->tensorflow==2.4.1) (0.6.1)\n",
      "Requirement already satisfied: werkzeug>=0.11.15 in /Users/sparshbohra/opt/anaconda3/lib/python3.7/site-packages (from tensorboard~=2.4->tensorflow==2.4.1) (1.0.1)\n",
      "Requirement already satisfied: rsa<5,>=3.1.4 in /Users/sparshbohra/opt/anaconda3/lib/python3.7/site-packages (from google-auth<2,>=1.6.3->tensorboard~=2.4->tensorflow==2.4.1) (4.6)\n",
      "Requirement already satisfied: pyasn1-modules>=0.2.1 in /Users/sparshbohra/opt/anaconda3/lib/python3.7/site-packages (from google-auth<2,>=1.6.3->tensorboard~=2.4->tensorflow==2.4.1) (0.2.8)\n",
      "Requirement already satisfied: cachetools<5.0,>=2.0.0 in /Users/sparshbohra/opt/anaconda3/lib/python3.7/site-packages (from google-auth<2,>=1.6.3->tensorboard~=2.4->tensorflow==2.4.1) (4.1.1)\n",
      "Requirement already satisfied: requests-oauthlib>=0.7.0 in /Users/sparshbohra/opt/anaconda3/lib/python3.7/site-packages (from google-auth-oauthlib<0.5,>=0.4.1->tensorboard~=2.4->tensorflow==2.4.1) (1.3.0)\n",
      "Requirement already satisfied: importlib-metadata in /Users/sparshbohra/opt/anaconda3/lib/python3.7/site-packages (from markdown>=2.6.8->tensorboard~=2.4->tensorflow==2.4.1) (2.0.0)\n",
      "Requirement already satisfied: pyasn1<0.5.0,>=0.4.6 in /Users/sparshbohra/opt/anaconda3/lib/python3.7/site-packages (from pyasn1-modules>=0.2.1->google-auth<2,>=1.6.3->tensorboard~=2.4->tensorflow==2.4.1) (0.4.8)\n",
      "Requirement already satisfied: urllib3<1.27,>=1.21.1 in /Users/sparshbohra/opt/anaconda3/lib/python3.7/site-packages (from requests<3,>=2.21.0->tensorboard~=2.4->tensorflow==2.4.1) (1.26.2)\n",
      "Requirement already satisfied: chardet<5,>=3.0.2 in /Users/sparshbohra/opt/anaconda3/lib/python3.7/site-packages (from requests<3,>=2.21.0->tensorboard~=2.4->tensorflow==2.4.1) (4.0.0)\n",
      "Requirement already satisfied: certifi>=2017.4.17 in /Users/sparshbohra/opt/anaconda3/lib/python3.7/site-packages (from requests<3,>=2.21.0->tensorboard~=2.4->tensorflow==2.4.1) (2021.5.30)\n",
      "Requirement already satisfied: idna<3,>=2.5 in /Users/sparshbohra/opt/anaconda3/lib/python3.7/site-packages (from requests<3,>=2.21.0->tensorboard~=2.4->tensorflow==2.4.1) (2.10)\n",
      "Requirement already satisfied: oauthlib>=3.0.0 in /Users/sparshbohra/opt/anaconda3/lib/python3.7/site-packages (from requests-oauthlib>=0.7.0->google-auth-oauthlib<0.5,>=0.4.1->tensorboard~=2.4->tensorflow==2.4.1) (3.1.0)\n",
      "Requirement already satisfied: zipp>=0.5 in /Users/sparshbohra/opt/anaconda3/lib/python3.7/site-packages (from importlib-metadata->markdown>=2.6.8->tensorboard~=2.4->tensorflow==2.4.1) (3.4.0)\n",
      "Requirement already satisfied: keras==2.4.0 in /Users/sparshbohra/opt/anaconda3/lib/python3.7/site-packages (2.4.0)\n",
      "Requirement already satisfied: scipy>=0.14 in /Users/sparshbohra/opt/anaconda3/lib/python3.7/site-packages (from keras==2.4.0) (1.4.1)\n",
      "Requirement already satisfied: tensorflow>=2.2.0 in /Users/sparshbohra/opt/anaconda3/lib/python3.7/site-packages (from keras==2.4.0) (2.4.1)\n",
      "Requirement already satisfied: h5py in /Users/sparshbohra/opt/anaconda3/lib/python3.7/site-packages (from keras==2.4.0) (2.10.0)\n",
      "Requirement already satisfied: pyyaml in /Users/sparshbohra/opt/anaconda3/lib/python3.7/site-packages (from keras==2.4.0) (5.3.1)\n",
      "Requirement already satisfied: numpy>=1.9.1 in /Users/sparshbohra/opt/anaconda3/lib/python3.7/site-packages (from keras==2.4.0) (1.19.5)\n",
      "Requirement already satisfied: termcolor~=1.1.0 in /Users/sparshbohra/opt/anaconda3/lib/python3.7/site-packages (from tensorflow>=2.2.0->keras==2.4.0) (1.1.0)\n",
      "Requirement already satisfied: protobuf>=3.9.2 in /Users/sparshbohra/opt/anaconda3/lib/python3.7/site-packages (from tensorflow>=2.2.0->keras==2.4.0) (3.13.0)\n",
      "Requirement already satisfied: keras-preprocessing~=1.1.2 in /Users/sparshbohra/opt/anaconda3/lib/python3.7/site-packages (from tensorflow>=2.2.0->keras==2.4.0) (1.1.2)\n",
      "Requirement already satisfied: tensorflow-estimator<2.5.0,>=2.4.0 in /Users/sparshbohra/opt/anaconda3/lib/python3.7/site-packages (from tensorflow>=2.2.0->keras==2.4.0) (2.4.0)\n",
      "Requirement already satisfied: astunparse~=1.6.3 in /Users/sparshbohra/opt/anaconda3/lib/python3.7/site-packages (from tensorflow>=2.2.0->keras==2.4.0) (1.6.3)\n",
      "Requirement already satisfied: tensorboard~=2.4 in /Users/sparshbohra/opt/anaconda3/lib/python3.7/site-packages (from tensorflow>=2.2.0->keras==2.4.0) (2.5.0)\n",
      "Requirement already satisfied: gast==0.3.3 in /Users/sparshbohra/opt/anaconda3/lib/python3.7/site-packages (from tensorflow>=2.2.0->keras==2.4.0) (0.3.3)\n",
      "Requirement already satisfied: wheel~=0.35 in /Users/sparshbohra/opt/anaconda3/lib/python3.7/site-packages (from tensorflow>=2.2.0->keras==2.4.0) (0.36.2)\n",
      "Requirement already satisfied: six~=1.15.0 in /Users/sparshbohra/opt/anaconda3/lib/python3.7/site-packages (from tensorflow>=2.2.0->keras==2.4.0) (1.15.0)\n",
      "Requirement already satisfied: wrapt~=1.12.1 in /Users/sparshbohra/opt/anaconda3/lib/python3.7/site-packages (from tensorflow>=2.2.0->keras==2.4.0) (1.12.1)\n",
      "Requirement already satisfied: flatbuffers~=1.12.0 in /Users/sparshbohra/opt/anaconda3/lib/python3.7/site-packages (from tensorflow>=2.2.0->keras==2.4.0) (1.12)\n",
      "Requirement already satisfied: grpcio~=1.32.0 in /Users/sparshbohra/opt/anaconda3/lib/python3.7/site-packages (from tensorflow>=2.2.0->keras==2.4.0) (1.32.0)\n",
      "Requirement already satisfied: typing-extensions~=3.7.4 in /Users/sparshbohra/opt/anaconda3/lib/python3.7/site-packages (from tensorflow>=2.2.0->keras==2.4.0) (3.7.4.3)\n",
      "Requirement already satisfied: opt-einsum~=3.3.0 in /Users/sparshbohra/opt/anaconda3/lib/python3.7/site-packages (from tensorflow>=2.2.0->keras==2.4.0) (3.3.0)\n",
      "Requirement already satisfied: google-pasta~=0.2 in /Users/sparshbohra/opt/anaconda3/lib/python3.7/site-packages (from tensorflow>=2.2.0->keras==2.4.0) (0.2.0)\n",
      "Requirement already satisfied: absl-py~=0.10 in /Users/sparshbohra/opt/anaconda3/lib/python3.7/site-packages (from tensorflow>=2.2.0->keras==2.4.0) (0.11.0)\n"
     ]
    },
    {
     "name": "stdout",
     "output_type": "stream",
     "text": [
      "Requirement already satisfied: setuptools in /Users/sparshbohra/opt/anaconda3/lib/python3.7/site-packages (from protobuf>=3.9.2->tensorflow>=2.2.0->keras==2.4.0) (51.1.2.post20210112)\n",
      "Requirement already satisfied: requests<3,>=2.21.0 in /Users/sparshbohra/opt/anaconda3/lib/python3.7/site-packages (from tensorboard~=2.4->tensorflow>=2.2.0->keras==2.4.0) (2.25.1)\n",
      "Requirement already satisfied: google-auth-oauthlib<0.5,>=0.4.1 in /Users/sparshbohra/opt/anaconda3/lib/python3.7/site-packages (from tensorboard~=2.4->tensorflow>=2.2.0->keras==2.4.0) (0.4.1)\n",
      "Requirement already satisfied: tensorboard-data-server<0.7.0,>=0.6.0 in /Users/sparshbohra/opt/anaconda3/lib/python3.7/site-packages (from tensorboard~=2.4->tensorflow>=2.2.0->keras==2.4.0) (0.6.1)\n",
      "Requirement already satisfied: werkzeug>=0.11.15 in /Users/sparshbohra/opt/anaconda3/lib/python3.7/site-packages (from tensorboard~=2.4->tensorflow>=2.2.0->keras==2.4.0) (1.0.1)\n",
      "Requirement already satisfied: google-auth<2,>=1.6.3 in /Users/sparshbohra/opt/anaconda3/lib/python3.7/site-packages (from tensorboard~=2.4->tensorflow>=2.2.0->keras==2.4.0) (1.31.0)\n",
      "Requirement already satisfied: markdown>=2.6.8 in /Users/sparshbohra/opt/anaconda3/lib/python3.7/site-packages (from tensorboard~=2.4->tensorflow>=2.2.0->keras==2.4.0) (3.3.3)\n",
      "Requirement already satisfied: tensorboard-plugin-wit>=1.6.0 in /Users/sparshbohra/opt/anaconda3/lib/python3.7/site-packages (from tensorboard~=2.4->tensorflow>=2.2.0->keras==2.4.0) (1.7.0)\n",
      "Requirement already satisfied: rsa<5,>=3.1.4 in /Users/sparshbohra/opt/anaconda3/lib/python3.7/site-packages (from google-auth<2,>=1.6.3->tensorboard~=2.4->tensorflow>=2.2.0->keras==2.4.0) (4.6)\n",
      "Requirement already satisfied: pyasn1-modules>=0.2.1 in /Users/sparshbohra/opt/anaconda3/lib/python3.7/site-packages (from google-auth<2,>=1.6.3->tensorboard~=2.4->tensorflow>=2.2.0->keras==2.4.0) (0.2.8)\n",
      "Requirement already satisfied: cachetools<5.0,>=2.0.0 in /Users/sparshbohra/opt/anaconda3/lib/python3.7/site-packages (from google-auth<2,>=1.6.3->tensorboard~=2.4->tensorflow>=2.2.0->keras==2.4.0) (4.1.1)\n",
      "Requirement already satisfied: requests-oauthlib>=0.7.0 in /Users/sparshbohra/opt/anaconda3/lib/python3.7/site-packages (from google-auth-oauthlib<0.5,>=0.4.1->tensorboard~=2.4->tensorflow>=2.2.0->keras==2.4.0) (1.3.0)\n",
      "Requirement already satisfied: importlib-metadata in /Users/sparshbohra/opt/anaconda3/lib/python3.7/site-packages (from markdown>=2.6.8->tensorboard~=2.4->tensorflow>=2.2.0->keras==2.4.0) (2.0.0)\n",
      "Requirement already satisfied: pyasn1<0.5.0,>=0.4.6 in /Users/sparshbohra/opt/anaconda3/lib/python3.7/site-packages (from pyasn1-modules>=0.2.1->google-auth<2,>=1.6.3->tensorboard~=2.4->tensorflow>=2.2.0->keras==2.4.0) (0.4.8)\n",
      "Requirement already satisfied: idna<3,>=2.5 in /Users/sparshbohra/opt/anaconda3/lib/python3.7/site-packages (from requests<3,>=2.21.0->tensorboard~=2.4->tensorflow>=2.2.0->keras==2.4.0) (2.10)\n",
      "Requirement already satisfied: certifi>=2017.4.17 in /Users/sparshbohra/opt/anaconda3/lib/python3.7/site-packages (from requests<3,>=2.21.0->tensorboard~=2.4->tensorflow>=2.2.0->keras==2.4.0) (2021.5.30)\n",
      "Requirement already satisfied: chardet<5,>=3.0.2 in /Users/sparshbohra/opt/anaconda3/lib/python3.7/site-packages (from requests<3,>=2.21.0->tensorboard~=2.4->tensorflow>=2.2.0->keras==2.4.0) (4.0.0)\n",
      "Requirement already satisfied: urllib3<1.27,>=1.21.1 in /Users/sparshbohra/opt/anaconda3/lib/python3.7/site-packages (from requests<3,>=2.21.0->tensorboard~=2.4->tensorflow>=2.2.0->keras==2.4.0) (1.26.2)\n",
      "Requirement already satisfied: oauthlib>=3.0.0 in /Users/sparshbohra/opt/anaconda3/lib/python3.7/site-packages (from requests-oauthlib>=0.7.0->google-auth-oauthlib<0.5,>=0.4.1->tensorboard~=2.4->tensorflow>=2.2.0->keras==2.4.0) (3.1.0)\n",
      "Requirement already satisfied: zipp>=0.5 in /Users/sparshbohra/opt/anaconda3/lib/python3.7/site-packages (from importlib-metadata->markdown>=2.6.8->tensorboard~=2.4->tensorflow>=2.2.0->keras==2.4.0) (3.4.0)\n"
     ]
    }
   ],
   "source": [
    "!pip install 'tensorflow==2.4.1'\n",
    "!pip install 'keras==2.4.0'"
   ]
  },
  {
   "cell_type": "markdown",
   "id": "compliant-latitude",
   "metadata": {
    "papermill": {
     "duration": 0.013122,
     "end_time": "2021-04-20T17:21:29.888967",
     "exception": false,
     "start_time": "2021-04-20T17:21:29.875845",
     "status": "completed"
    },
    "tags": []
   },
   "source": [
    "## Step 1 : Downloading Data\n",
    "BTC Prices Dataset is downloaded from `finance.yahoo.com`"
   ]
  },
  {
   "cell_type": "code",
   "execution_count": 37,
   "id": "greenhouse-crowd",
   "metadata": {
    "execution": {
     "iopub.execute_input": "2021-04-20T17:21:29.924378Z",
     "iopub.status.busy": "2021-04-20T17:21:29.923626Z",
     "iopub.status.idle": "2021-04-20T17:21:37.306307Z",
     "shell.execute_reply": "2021-04-20T17:21:37.306940Z"
    },
    "papermill": {
     "duration": 7.405066,
     "end_time": "2021-04-20T17:21:37.307292",
     "exception": false,
     "start_time": "2021-04-20T17:21:29.902226",
     "status": "completed"
    },
    "tags": []
   },
   "outputs": [],
   "source": [
    "# import mods.\n",
    "import numpy as np \n",
    "import pandas as pd\n",
    "import seaborn as sns \n",
    "from tensorflow import keras\n",
    "from tensorflow.keras.optimizers import Adam\n",
    "from tensorflow.python.keras.models import Model, Sequential\n",
    "from tensorflow.python.keras.layers import Dense, Embedding, Input, Activation, Masking\n",
    "from tensorflow.python.keras.layers import LSTM, Bidirectional, GlobalMaxPool1D, Dropout, LeakyReLU\n",
    "from tensorflow.python.keras.preprocessing.text import Tokenizer\n",
    "from tensorflow.python.keras.preprocessing.sequence import pad_sequences\n",
    "from tensorflow.python.keras import optimizers, initializers, layers\n",
    "from matplotlib import pyplot as plt \n",
    "from sklearn.preprocessing import MinMaxScaler"
   ]
  },
  {
   "cell_type": "code",
   "execution_count": 66,
   "id": "czech-gender",
   "metadata": {
    "execution": {
     "iopub.execute_input": "2021-04-20T17:21:37.354370Z",
     "iopub.status.busy": "2021-04-20T17:21:37.353500Z",
     "iopub.status.idle": "2021-04-20T17:21:37.686104Z",
     "shell.execute_reply": "2021-04-20T17:21:37.685307Z"
    },
    "papermill": {
     "duration": 0.364768,
     "end_time": "2021-04-20T17:21:37.686301",
     "exception": false,
     "start_time": "2021-04-20T17:21:37.321533",
     "status": "completed"
    },
    "tags": []
   },
   "outputs": [
    {
     "data": {
      "text/html": [
       "<div>\n",
       "<style scoped>\n",
       "    .dataframe tbody tr th:only-of-type {\n",
       "        vertical-align: middle;\n",
       "    }\n",
       "\n",
       "    .dataframe tbody tr th {\n",
       "        vertical-align: top;\n",
       "    }\n",
       "\n",
       "    .dataframe thead th {\n",
       "        text-align: right;\n",
       "    }\n",
       "</style>\n",
       "<table border=\"1\" class=\"dataframe\">\n",
       "  <thead>\n",
       "    <tr style=\"text-align: right;\">\n",
       "      <th></th>\n",
       "      <th>Unnamed: 0</th>\n",
       "      <th>Currency</th>\n",
       "      <th>Date</th>\n",
       "      <th>Closing Price (USD)</th>\n",
       "      <th>24h Open (USD)</th>\n",
       "      <th>24h High (USD)</th>\n",
       "      <th>24h Low (USD)</th>\n",
       "    </tr>\n",
       "  </thead>\n",
       "  <tbody>\n",
       "    <tr>\n",
       "      <th>0</th>\n",
       "      <td>0</td>\n",
       "      <td>BTC</td>\n",
       "      <td>2013-10-01</td>\n",
       "      <td>123.65499</td>\n",
       "      <td>124.30466</td>\n",
       "      <td>124.75166</td>\n",
       "      <td>122.56349</td>\n",
       "    </tr>\n",
       "    <tr>\n",
       "      <th>1</th>\n",
       "      <td>1</td>\n",
       "      <td>BTC</td>\n",
       "      <td>2013-10-02</td>\n",
       "      <td>125.45500</td>\n",
       "      <td>123.65499</td>\n",
       "      <td>125.75850</td>\n",
       "      <td>123.63383</td>\n",
       "    </tr>\n",
       "    <tr>\n",
       "      <th>2</th>\n",
       "      <td>2</td>\n",
       "      <td>BTC</td>\n",
       "      <td>2013-10-03</td>\n",
       "      <td>108.58483</td>\n",
       "      <td>125.45500</td>\n",
       "      <td>125.66566</td>\n",
       "      <td>83.32833</td>\n",
       "    </tr>\n",
       "    <tr>\n",
       "      <th>3</th>\n",
       "      <td>3</td>\n",
       "      <td>BTC</td>\n",
       "      <td>2013-10-04</td>\n",
       "      <td>118.67466</td>\n",
       "      <td>108.58483</td>\n",
       "      <td>118.67500</td>\n",
       "      <td>107.05816</td>\n",
       "    </tr>\n",
       "    <tr>\n",
       "      <th>4</th>\n",
       "      <td>4</td>\n",
       "      <td>BTC</td>\n",
       "      <td>2013-10-05</td>\n",
       "      <td>121.33866</td>\n",
       "      <td>118.67466</td>\n",
       "      <td>121.93633</td>\n",
       "      <td>118.00566</td>\n",
       "    </tr>\n",
       "  </tbody>\n",
       "</table>\n",
       "</div>"
      ],
      "text/plain": [
       "   Unnamed: 0 Currency        Date  Closing Price (USD)  24h Open (USD)  \\\n",
       "0           0      BTC  2013-10-01            123.65499       124.30466   \n",
       "1           1      BTC  2013-10-02            125.45500       123.65499   \n",
       "2           2      BTC  2013-10-03            108.58483       125.45500   \n",
       "3           3      BTC  2013-10-04            118.67466       108.58483   \n",
       "4           4      BTC  2013-10-05            121.33866       118.67466   \n",
       "\n",
       "   24h High (USD)  24h Low (USD)  \n",
       "0       124.75166      122.56349  \n",
       "1       125.75850      123.63383  \n",
       "2       125.66566       83.32833  \n",
       "3       118.67500      107.05816  \n",
       "4       121.93633      118.00566  "
      ]
     },
     "execution_count": 66,
     "metadata": {},
     "output_type": "execute_result"
    }
   ],
   "source": [
    "# Getting Data \n",
    "url = 'Coindesk_BTC_data.csv'\n",
    "df = pd.read_csv(url)\n",
    "\n",
    "# Show a smaple of the whole data set\n",
    "df.head()"
   ]
  },
  {
   "cell_type": "code",
   "execution_count": 67,
   "id": "stupid-idaho",
   "metadata": {
    "execution": {
     "iopub.execute_input": "2021-04-20T17:21:37.741197Z",
     "iopub.status.busy": "2021-04-20T17:21:37.740366Z",
     "iopub.status.idle": "2021-04-20T17:21:37.954853Z",
     "shell.execute_reply": "2021-04-20T17:21:37.954272Z"
    },
    "papermill": {
     "duration": 0.253704,
     "end_time": "2021-04-20T17:21:37.955023",
     "exception": false,
     "start_time": "2021-04-20T17:21:37.701319",
     "status": "completed"
    },
    "tags": []
   },
   "outputs": [
    {
     "data": {
      "image/png": "[encoded data removed]",
      "text/plain": [
       "<Figure size 1440x432 with 1 Axes>"
      ]
     },
     "metadata": {
      "needs_background": "light"
     },
     "output_type": "display_data"
    }
   ],
   "source": [
    "# Visulize historical data of btc\n",
    "price = df[['Closing Price (USD)']]\n",
    "plt.figure(figsize = (20,6))\n",
    "plt.plot(price)\n",
    "plt.title('BTC Prices', font='Times New Roman', fontsize=20, fontweight='bold')\n",
    "plt.show()"
   ]
  },
  {
   "cell_type": "code",
   "execution_count": 68,
   "id": "suffering-accuracy",
   "metadata": {
    "execution": {
     "iopub.execute_input": "2021-04-20T17:21:38.010842Z",
     "iopub.status.busy": "2021-04-20T17:21:37.996479Z",
     "iopub.status.idle": "2021-04-20T17:21:38.275372Z",
     "shell.execute_reply": "2021-04-20T17:21:38.274293Z"
    },
    "papermill": {
     "duration": 0.305025,
     "end_time": "2021-04-20T17:21:38.275541",
     "exception": false,
     "start_time": "2021-04-20T17:21:37.970516",
     "status": "completed"
    },
    "tags": []
   },
   "outputs": [
    {
     "data": {
      "image/png": "[encoded data removed]",
      "text/plain": [
       "<Figure size 720x720 with 2 Axes>"
      ]
     },
     "metadata": {
      "needs_background": "light"
     },
     "output_type": "display_data"
    }
   ],
   "source": [
    "#  heatmap of correlations \n",
    "plt.figure(figsize = (10, 10))\n",
    "sns.heatmap(df.corr(), annot = True);"
   ]
  },
  {
   "cell_type": "markdown",
   "id": "steady-muslim",
   "metadata": {
    "papermill": {
     "duration": 0.017846,
     "end_time": "2021-04-20T17:21:38.310488",
     "exception": false,
     "start_time": "2021-04-20T17:21:38.292642",
     "status": "completed"
    },
    "tags": []
   },
   "source": [
    "## Step 2 : Data Perparation \n",
    "#### Normalization \n",
    "The goal of normalizing data is to change the values of numeric columns in the dataset to a commen scale, without distorting differences in the range of values."
   ]
  },
  {
   "cell_type": "code",
   "execution_count": 69,
   "id": "middle-platform",
   "metadata": {
    "execution": {
     "iopub.execute_input": "2021-04-20T17:21:38.348231Z",
     "iopub.status.busy": "2021-04-20T17:21:38.347398Z",
     "iopub.status.idle": "2021-04-20T17:21:38.358060Z",
     "shell.execute_reply": "2021-04-20T17:21:38.358921Z"
    },
    "papermill": {
     "duration": 0.031832,
     "end_time": "2021-04-20T17:21:38.359189",
     "exception": false,
     "start_time": "2021-04-20T17:21:38.327357",
     "status": "completed"
    },
    "tags": []
   },
   "outputs": [
    {
     "name": "stdout",
     "output_type": "stream",
     "text": [
      "Acutal:[123.65499] || NormDf[0.00023831]\n",
      "Acutal:[125.27966] || NormDf[0.000264]\n",
      "Acutal:[860.84166] || NormDf[0.01189561]\n"
     ]
    }
   ],
   "source": [
    "# This mehtod returns a value between 0 ~ 10\n",
    "MMScaler = MinMaxScaler()\n",
    "Normdf   = MMScaler.fit_transform(price.values)\n",
    "\n",
    "# A quick comparation between df and Normdf\n",
    "print(f'Acutal:{price.values[0]} || NormDf{Normdf[0]}')\n",
    "print(f'Acutal:{price.values[10]} || NormDf{Normdf[10]}')\n",
    "print(f'Acutal:{price.values[100]} || NormDf{Normdf[100]}')"
   ]
  },
  {
   "cell_type": "markdown",
   "id": "expressed-dealing",
   "metadata": {
    "papermill": {
     "duration": 0.017302,
     "end_time": "2021-04-20T17:21:38.394344",
     "exception": false,
     "start_time": "2021-04-20T17:21:38.377042",
     "status": "completed"
    },
    "tags": []
   },
   "source": [
    "#### Data Spliting \n",
    "We need to split our dataset into two parts (TrainingDf , TestDf) which is training dataset and validation dataset. Training Dataset will be used to teach our model while validation dataset will be use in case of testing the perdicted values. This step is very important as we want to make sure our model perdictions make sence."
   ]
  },
  {
   "cell_type": "code",
   "execution_count": 70,
   "id": "sporting-formula",
   "metadata": {
    "execution": {
     "iopub.execute_input": "2021-04-20T17:21:38.434609Z",
     "iopub.status.busy": "2021-04-20T17:21:38.433584Z",
     "iopub.status.idle": "2021-04-20T17:21:38.441177Z",
     "shell.execute_reply": "2021-04-20T17:21:38.441665Z"
    },
    "papermill": {
     "duration": 0.029897,
     "end_time": "2021-04-20T17:21:38.441896",
     "exception": false,
     "start_time": "2021-04-20T17:21:38.411999",
     "status": "completed"
    },
    "tags": []
   },
   "outputs": [],
   "source": [
    "def univariate_date(df, start_index, end_index, history_size, target_size):\n",
    "    data = []\n",
    "    labels = []\n",
    "\n",
    "    # Setting start_index, end_index\n",
    "    start_index = start_index + history_size\n",
    "    if end_index is None:\n",
    "        end_index = len(df)\n",
    "\n",
    "    for i in range(start_index, end_index):\n",
    "        indices = range(i - history_size, i)\n",
    "        # reshape data (history_size) >> (history_size, 1)\n",
    "        data.append(np.reshape(df[indices], (history_size,1)))\n",
    "        labels.append(df[i + target_size])\n",
    "    return np.array(data), np.array(labels)"
   ]
  },
  {
   "cell_type": "code",
   "execution_count": 71,
   "id": "obvious-england",
   "metadata": {
    "execution": {
     "iopub.execute_input": "2021-04-20T17:21:38.481587Z",
     "iopub.status.busy": "2021-04-20T17:21:38.480536Z",
     "iopub.status.idle": "2021-04-20T17:21:38.546975Z",
     "shell.execute_reply": "2021-04-20T17:21:38.547466Z"
    },
    "papermill": {
     "duration": 0.088027,
     "end_time": "2021-04-20T17:21:38.547679",
     "exception": false,
     "start_time": "2021-04-20T17:21:38.459652",
     "status": "completed"
    },
    "tags": []
   },
   "outputs": [],
   "source": [
    "# define how much days of data we're going to learn to predict the next point\n",
    "past_history = 5\n",
    "future_target = 0\n",
    "\n",
    "# last indext of the 80% data used for training \n",
    "Train_Split = int(len(Normdf) * 0.8)\n",
    "\n",
    "# Start Spliting \n",
    "x_train, y_train = univariate_date(Normdf, 0, Train_Split, past_history, future_target)\n",
    "\n",
    "x_test, y_test = univariate_date(Normdf, Train_Split, None, past_history, future_target)"
   ]
  },
  {
   "cell_type": "code",
   "execution_count": 72,
   "id": "recorded-there",
   "metadata": {},
   "outputs": [
    {
     "name": "stdout",
     "output_type": "stream",
     "text": [
      "(2199, 5, 1)\n",
      "(2199, 1)\n",
      "(546, 5, 1)\n",
      "(546, 1)\n"
     ]
    }
   ],
   "source": [
    "print(x_train.shape)\n",
    "print(y_train.shape)\n",
    "print(x_test.shape)\n",
    "print(y_test.shape)"
   ]
  },
  {
   "cell_type": "markdown",
   "id": "disciplinary-option",
   "metadata": {
    "papermill": {
     "duration": 0.017212,
     "end_time": "2021-04-20T17:21:38.582391",
     "exception": false,
     "start_time": "2021-04-20T17:21:38.565179",
     "status": "completed"
    },
    "tags": []
   },
   "source": [
    "## Step 3 : Bulid Model\n",
    "The next step is to bulid our model architecture. Finding the right model is an art, it may takes several tries to find the right model.\n",
    "in this code, we have used LSTM model with one LSTM layer and 64 neurons by using the relu activation function."
   ]
  },
  {
   "cell_type": "code",
   "execution_count": 73,
   "id": "controlling-integrity",
   "metadata": {
    "execution": {
     "iopub.execute_input": "2021-04-20T17:21:38.623102Z",
     "iopub.status.busy": "2021-04-20T17:21:38.622113Z",
     "iopub.status.idle": "2021-04-20T17:21:38.881421Z",
     "shell.execute_reply": "2021-04-20T17:21:38.880776Z"
    },
    "papermill": {
     "duration": 0.281564,
     "end_time": "2021-04-20T17:21:38.881602",
     "exception": false,
     "start_time": "2021-04-20T17:21:38.600038",
     "status": "completed"
    },
    "tags": []
   },
   "outputs": [],
   "source": [
    "# Model Parameters \n",
    "neurons = 64\n",
    "learning_rate = 0.0001\n",
    "actfcn = 'swish'\n",
    "adam = Adam(lr = learning_rate)\n",
    "lossfcn = 'mse'\n",
    "batch_s = 5            # batch size\n",
    "epochs = 250\n",
    "\n",
    "# Model initialization\n",
    "model = Sequential()\n",
    "\n",
    "# layers\n",
    "model.add(LSTM(units = neurons, activation = actfcn, input_shape = (None, 1)))\n",
    "model.add(LeakyReLU(alpha = 0.5))\n",
    "model.add(Dropout(0.05))\n",
    "model.add(Dense(units = 1))\n",
    "\n",
    "# Compile \n",
    "model.compile(optimizer = adam, loss = lossfcn)"
   ]
  },
  {
   "cell_type": "code",
   "execution_count": 74,
   "id": "particular-credits",
   "metadata": {
    "execution": {
     "iopub.execute_input": "2021-04-20T17:21:38.925316Z",
     "iopub.status.busy": "2021-04-20T17:21:38.924560Z",
     "iopub.status.idle": "2021-04-20T17:21:38.932584Z",
     "shell.execute_reply": "2021-04-20T17:21:38.931937Z"
    },
    "papermill": {
     "duration": 0.032427,
     "end_time": "2021-04-20T17:21:38.932760",
     "exception": false,
     "start_time": "2021-04-20T17:21:38.900333",
     "status": "completed"
    },
    "tags": []
   },
   "outputs": [
    {
     "name": "stdout",
     "output_type": "stream",
     "text": [
      "Model: \"sequential_4\"\n",
      "_________________________________________________________________\n",
      "Layer (type)                 Output Shape              Param #   \n",
      "=================================================================\n",
      "lstm_4 (LSTM)                (None, 64)                16896     \n",
      "_________________________________________________________________\n",
      "leaky_re_lu_3 (LeakyReLU)    (None, 64)                0         \n",
      "_________________________________________________________________\n",
      "dropout_3 (Dropout)          (None, 64)                0         \n",
      "_________________________________________________________________\n",
      "dense_3 (Dense)              (None, 1)                 65        \n",
      "=================================================================\n",
      "Total params: 16,961\n",
      "Trainable params: 16,961\n",
      "Non-trainable params: 0\n",
      "_________________________________________________________________\n"
     ]
    }
   ],
   "source": [
    "# Qucik glance at model summary\n",
    "model.summary()"
   ]
  },
  {
   "cell_type": "markdown",
   "id": "suited-vietnamese",
   "metadata": {
    "papermill": {
     "duration": 0.018057,
     "end_time": "2021-04-20T17:21:38.969251",
     "exception": false,
     "start_time": "2021-04-20T17:21:38.951194",
     "status": "completed"
    },
    "tags": []
   },
   "source": [
    "## Step 4 : Modeling\n",
    "Now, we can start training our model with TensorFlow"
   ]
  },
  {
   "cell_type": "code",
   "execution_count": 75,
   "id": "arranged-right",
   "metadata": {
    "execution": {
     "iopub.execute_input": "2021-04-20T17:21:39.012852Z",
     "iopub.status.busy": "2021-04-20T17:21:39.012129Z",
     "iopub.status.idle": "2021-04-20T17:30:23.160824Z",
     "shell.execute_reply": "2021-04-20T17:30:23.159765Z"
    },
    "papermill": {
     "duration": 524.173133,
     "end_time": "2021-04-20T17:30:23.161006",
     "exception": false,
     "start_time": "2021-04-20T17:21:38.987873",
     "status": "completed"
    },
    "tags": [
     "outputPrepend"
    ]
   },
   "outputs": [
    {
     "name": "stdout",
     "output_type": "stream",
     "text": [
      "Epoch 1/250\n",
      "396/396 [==============================] - 5s 6ms/step - loss: 3.0111e-04 - val_loss: 0.0027\n",
      "Epoch 2/250\n",
      "396/396 [==============================] - 2s 5ms/step - loss: 0.0027 - val_loss: 0.0042\n",
      "Epoch 3/250\n",
      "396/396 [==============================] - 2s 6ms/step - loss: 0.0017 - val_loss: 0.0038\n",
      "Epoch 4/250\n",
      "396/396 [==============================] - 2s 5ms/step - loss: 0.0016 - val_loss: 0.0032\n",
      "Epoch 5/250\n",
      "396/396 [==============================] - 3s 8ms/step - loss: 0.0015 - val_loss: 0.0026\n",
      "Epoch 6/250\n",
      "396/396 [==============================] - 3s 7ms/step - loss: 0.0013 - val_loss: 0.0019\n",
      "Epoch 7/250\n",
      "396/396 [==============================] - 2s 5ms/step - loss: 0.0012 - val_loss: 0.0013\n",
      "Epoch 8/250\n",
      "396/396 [==============================] - 2s 6ms/step - loss: 9.4491e-04 - val_loss: 8.4760e-04\n",
      "Epoch 9/250\n",
      "396/396 [==============================] - 2s 6ms/step - loss: 7.0915e-04 - val_loss: 5.2310e-04\n",
      "Epoch 10/250\n",
      "396/396 [==============================] - 2s 6ms/step - loss: 4.8532e-04 - val_loss: 3.5635e-04\n",
      "Epoch 11/250\n",
      "396/396 [==============================] - ETA: 0s - loss: 2.8390e-0 - 3s 6ms/step - loss: 2.8357e-04 - val_loss: 2.6703e-04\n",
      "Epoch 12/250\n",
      "396/396 [==============================] - 3s 6ms/step - loss: 1.4982e-04 - val_loss: 2.2139e-04\n",
      "Epoch 13/250\n",
      "396/396 [==============================] - 2s 6ms/step - loss: 7.9387e-05 - val_loss: 1.9749e-04\n",
      "Epoch 14/250\n",
      "396/396 [==============================] - 4s 11ms/step - loss: 4.6357e-05 - val_loss: 1.8463e-04\n",
      "Epoch 15/250\n",
      "396/396 [==============================] - 2s 6ms/step - loss: 3.0569e-05 - val_loss: 1.6642e-04\n",
      "Epoch 16/250\n",
      "396/396 [==============================] - 2s 5ms/step - loss: 2.4449e-05 - val_loss: 1.6678e-04\n",
      "Epoch 17/250\n",
      "396/396 [==============================] - 2s 5ms/step - loss: 2.1820e-05 - val_loss: 1.7071e-04\n",
      "Epoch 18/250\n",
      "396/396 [==============================] - 2s 5ms/step - loss: 1.9374e-05 - val_loss: 1.7609e-04\n",
      "Epoch 19/250\n",
      "396/396 [==============================] - 2s 5ms/step - loss: 2.0614e-05 - val_loss: 1.8365e-04\n",
      "Epoch 20/250\n",
      "396/396 [==============================] - 2s 5ms/step - loss: 1.9386e-05 - val_loss: 1.9247e-04\n",
      "Epoch 21/250\n",
      "396/396 [==============================] - 2s 5ms/step - loss: 1.8944e-05 - val_loss: 1.9781e-04\n",
      "Epoch 22/250\n",
      "396/396 [==============================] - 2s 5ms/step - loss: 1.8485e-05 - val_loss: 2.1192e-04\n",
      "Epoch 23/250\n",
      "396/396 [==============================] - 2s 5ms/step - loss: 1.8515e-05 - val_loss: 2.2677e-04\n",
      "Epoch 24/250\n",
      "396/396 [==============================] - 2s 5ms/step - loss: 1.7728e-05 - val_loss: 2.3432e-04\n",
      "Epoch 25/250\n",
      "396/396 [==============================] - 2s 5ms/step - loss: 1.9110e-05 - val_loss: 2.2585e-04\n",
      "Epoch 26/250\n",
      "396/396 [==============================] - 2s 5ms/step - loss: 1.8525e-05 - val_loss: 2.4488e-04\n",
      "Epoch 27/250\n",
      "396/396 [==============================] - 2s 5ms/step - loss: 1.8490e-05 - val_loss: 2.3472e-04\n",
      "Epoch 28/250\n",
      "396/396 [==============================] - 2s 5ms/step - loss: 1.9139e-05 - val_loss: 2.3547e-04\n",
      "Epoch 29/250\n",
      "396/396 [==============================] - 2s 5ms/step - loss: 1.7683e-05 - val_loss: 2.4021e-04\n",
      "Epoch 30/250\n",
      "396/396 [==============================] - 2s 5ms/step - loss: 1.8444e-05 - val_loss: 2.4495e-04\n",
      "Epoch 31/250\n",
      "396/396 [==============================] - 2s 6ms/step - loss: 1.8374e-05 - val_loss: 2.5558e-04\n",
      "Epoch 32/250\n",
      "396/396 [==============================] - 2s 6ms/step - loss: 1.8773e-05 - val_loss: 2.5803e-04\n",
      "Epoch 33/250\n",
      "396/396 [==============================] - 2s 6ms/step - loss: 1.9012e-05 - val_loss: 2.4734e-04\n",
      "Epoch 34/250\n",
      "396/396 [==============================] - 2s 5ms/step - loss: 2.0187e-05 - val_loss: 2.4545e-04\n",
      "Epoch 35/250\n",
      "396/396 [==============================] - 2s 5ms/step - loss: 1.9299e-05 - val_loss: 2.4801e-04\n",
      "Epoch 36/250\n",
      "396/396 [==============================] - 2s 5ms/step - loss: 1.8754e-05 - val_loss: 2.5230e-04\n",
      "Epoch 37/250\n",
      "396/396 [==============================] - 2s 5ms/step - loss: 1.8256e-05 - val_loss: 2.5619e-04\n",
      "Epoch 38/250\n",
      "396/396 [==============================] - 2s 5ms/step - loss: 1.7620e-05 - val_loss: 2.4801e-04\n",
      "Epoch 39/250\n",
      "396/396 [==============================] - 2s 5ms/step - loss: 1.7969e-05 - val_loss: 2.4650e-04\n",
      "Epoch 40/250\n",
      "396/396 [==============================] - 2s 5ms/step - loss: 1.7425e-05 - val_loss: 2.4717e-04\n",
      "Epoch 41/250\n",
      "396/396 [==============================] - 2s 5ms/step - loss: 1.8557e-05 - val_loss: 2.4886e-04\n",
      "Epoch 42/250\n",
      "396/396 [==============================] - 2s 5ms/step - loss: 1.8030e-05 - val_loss: 2.3982e-04\n",
      "Epoch 43/250\n",
      "396/396 [==============================] - 2s 5ms/step - loss: 1.7972e-05 - val_loss: 2.4163e-04\n",
      "Epoch 44/250\n",
      "396/396 [==============================] - 2s 5ms/step - loss: 1.7055e-05 - val_loss: 2.4766e-04\n",
      "Epoch 45/250\n",
      "396/396 [==============================] - 2s 5ms/step - loss: 1.6939e-05 - val_loss: 2.2900e-04\n",
      "Epoch 46/250\n",
      "396/396 [==============================] - 2s 5ms/step - loss: 1.7932e-05 - val_loss: 2.3639e-04\n",
      "Epoch 47/250\n",
      "396/396 [==============================] - 2s 5ms/step - loss: 1.7841e-05 - val_loss: 2.3334e-04\n",
      "Epoch 48/250\n",
      "396/396 [==============================] - 2s 5ms/step - loss: 1.6879e-05 - val_loss: 2.3246e-04\n",
      "Epoch 49/250\n",
      "396/396 [==============================] - 2s 5ms/step - loss: 1.5719e-05 - val_loss: 2.3913e-04\n",
      "Epoch 50/250\n",
      "396/396 [==============================] - 2s 5ms/step - loss: 1.6049e-05 - val_loss: 2.4397e-04\n",
      "Epoch 51/250\n",
      "396/396 [==============================] - 2s 5ms/step - loss: 1.6770e-05 - val_loss: 2.2185e-04\n",
      "Epoch 52/250\n",
      "396/396 [==============================] - 2s 5ms/step - loss: 1.5986e-05 - val_loss: 2.2417e-04\n",
      "Epoch 53/250\n",
      "396/396 [==============================] - 2s 5ms/step - loss: 1.5837e-05 - val_loss: 2.4125e-04\n",
      "Epoch 54/250\n",
      "396/396 [==============================] - 2s 5ms/step - loss: 1.5503e-05 - val_loss: 2.2779e-04\n",
      "Epoch 55/250\n",
      "396/396 [==============================] - 2s 4ms/step - loss: 1.5234e-05 - val_loss: 2.3811e-04\n",
      "Epoch 56/250\n",
      "396/396 [==============================] - 2s 5ms/step - loss: 1.5392e-05 - val_loss: 2.2629e-04\n",
      "Epoch 57/250\n",
      "396/396 [==============================] - 2s 5ms/step - loss: 1.5240e-05 - val_loss: 2.3679e-04\n",
      "Epoch 58/250\n",
      "396/396 [==============================] - 2s 5ms/step - loss: 1.5551e-05 - val_loss: 2.4754e-04\n",
      "Epoch 59/250\n",
      "396/396 [==============================] - 2s 5ms/step - loss: 1.6096e-05 - val_loss: 2.4506e-04\n",
      "Epoch 60/250\n",
      "396/396 [==============================] - 2s 5ms/step - loss: 1.5441e-05 - val_loss: 2.4088e-04\n",
      "Epoch 61/250\n",
      "396/396 [==============================] - 2s 5ms/step - loss: 1.5589e-05 - val_loss: 2.2956e-04\n",
      "Epoch 62/250\n",
      "396/396 [==============================] - 2s 5ms/step - loss: 1.5869e-05 - val_loss: 2.2684e-04\n",
      "Epoch 63/250\n",
      "396/396 [==============================] - 2s 5ms/step - loss: 1.5698e-05 - val_loss: 2.3608e-04\n",
      "Epoch 64/250\n",
      "396/396 [==============================] - 2s 5ms/step - loss: 1.5314e-05 - val_loss: 2.2625e-04\n",
      "Epoch 65/250\n",
      "396/396 [==============================] - 2s 5ms/step - loss: 1.5442e-05 - val_loss: 2.2768e-04\n",
      "Epoch 66/250\n",
      "396/396 [==============================] - 2s 5ms/step - loss: 1.5795e-05 - val_loss: 2.3308e-04\n",
      "Epoch 67/250\n",
      "396/396 [==============================] - 2s 5ms/step - loss: 1.4939e-05 - val_loss: 2.2593e-04\n",
      "Epoch 68/250\n",
      "396/396 [==============================] - 2s 5ms/step - loss: 1.5578e-05 - val_loss: 2.2102e-04\n",
      "Epoch 69/250\n",
      "396/396 [==============================] - 2s 5ms/step - loss: 1.5875e-05 - val_loss: 2.2363e-04\n",
      "Epoch 70/250\n",
      "396/396 [==============================] - 2s 5ms/step - loss: 1.4371e-05 - val_loss: 2.2220e-04\n",
      "Epoch 71/250\n",
      "396/396 [==============================] - 2s 5ms/step - loss: 1.4860e-05 - val_loss: 2.4270e-04\n",
      "Epoch 72/250\n",
      "396/396 [==============================] - 2s 5ms/step - loss: 1.4401e-05 - val_loss: 2.2172e-04\n",
      "Epoch 73/250\n",
      "396/396 [==============================] - 2s 5ms/step - loss: 1.5223e-05 - val_loss: 2.2562e-04\n",
      "Epoch 74/250\n",
      "396/396 [==============================] - 2s 5ms/step - loss: 1.4784e-05 - val_loss: 2.2966e-04\n",
      "Epoch 75/250\n",
      "396/396 [==============================] - 2s 6ms/step - loss: 1.4796e-05 - val_loss: 2.3690e-04\n"
     ]
    },
    {
     "name": "stdout",
     "output_type": "stream",
     "text": [
      "Epoch 76/250\n",
      "396/396 [==============================] - 2s 5ms/step - loss: 1.5255e-05 - val_loss: 2.1980e-04\n",
      "Epoch 77/250\n",
      "396/396 [==============================] - 2s 5ms/step - loss: 1.5262e-05 - val_loss: 2.1938e-04\n",
      "Epoch 78/250\n",
      "396/396 [==============================] - 2s 5ms/step - loss: 1.4612e-05 - val_loss: 2.1587e-04\n",
      "Epoch 79/250\n",
      "396/396 [==============================] - 2s 5ms/step - loss: 1.4330e-05 - val_loss: 2.2098e-04\n",
      "Epoch 80/250\n",
      "396/396 [==============================] - 2s 5ms/step - loss: 1.4030e-05 - val_loss: 2.2396e-04\n",
      "Epoch 81/250\n",
      "396/396 [==============================] - 2s 5ms/step - loss: 1.3802e-05 - val_loss: 2.2700e-04\n",
      "Epoch 82/250\n",
      "396/396 [==============================] - 2s 5ms/step - loss: 1.3471e-05 - val_loss: 2.2741e-04\n",
      "Epoch 83/250\n",
      "396/396 [==============================] - 2s 5ms/step - loss: 1.5446e-05 - val_loss: 2.1036e-04\n",
      "Epoch 84/250\n",
      "396/396 [==============================] - 2s 5ms/step - loss: 1.4844e-05 - val_loss: 2.1748e-04\n",
      "Epoch 85/250\n",
      "396/396 [==============================] - 2s 5ms/step - loss: 1.3515e-05 - val_loss: 2.1754e-04\n",
      "Epoch 86/250\n",
      "396/396 [==============================] - 2s 6ms/step - loss: 1.3141e-05 - val_loss: 2.1833e-04\n",
      "Epoch 87/250\n",
      "396/396 [==============================] - 2s 5ms/step - loss: 1.3847e-05 - val_loss: 2.1450e-04\n",
      "Epoch 88/250\n",
      "396/396 [==============================] - 2s 5ms/step - loss: 1.4970e-05 - val_loss: 2.2016e-04\n",
      "Epoch 89/250\n",
      "396/396 [==============================] - 2s 5ms/step - loss: 1.4346e-05 - val_loss: 2.1536e-04\n",
      "Epoch 90/250\n",
      "396/396 [==============================] - 2s 5ms/step - loss: 1.3942e-05 - val_loss: 2.1458e-04\n",
      "Epoch 91/250\n",
      "396/396 [==============================] - 2s 5ms/step - loss: 1.4222e-05 - val_loss: 2.1684e-04\n",
      "Epoch 92/250\n",
      "396/396 [==============================] - 2s 5ms/step - loss: 1.3757e-05 - val_loss: 2.1808e-04\n",
      "Epoch 93/250\n",
      "396/396 [==============================] - 2s 5ms/step - loss: 1.3697e-05 - val_loss: 2.0682e-04\n",
      "Epoch 94/250\n",
      "396/396 [==============================] - 2s 5ms/step - loss: 1.3899e-05 - val_loss: 2.0597e-04\n",
      "Epoch 95/250\n",
      "396/396 [==============================] - 2s 5ms/step - loss: 1.3485e-05 - val_loss: 2.0452e-04\n",
      "Epoch 96/250\n",
      "396/396 [==============================] - 2s 5ms/step - loss: 1.2779e-05 - val_loss: 2.0319e-04\n",
      "Epoch 97/250\n",
      "396/396 [==============================] - 2s 5ms/step - loss: 1.2482e-05 - val_loss: 2.0371e-04\n",
      "Epoch 98/250\n",
      "396/396 [==============================] - 2s 5ms/step - loss: 1.2910e-05 - val_loss: 2.0808e-04\n",
      "Epoch 99/250\n",
      "396/396 [==============================] - 2s 5ms/step - loss: 1.2436e-05 - val_loss: 2.0929e-04\n",
      "Epoch 100/250\n",
      "396/396 [==============================] - 2s 5ms/step - loss: 1.2998e-05 - val_loss: 2.0868e-04\n",
      "Epoch 101/250\n",
      "396/396 [==============================] - 2s 5ms/step - loss: 1.3263e-05 - val_loss: 2.1254e-04\n",
      "Epoch 102/250\n",
      "396/396 [==============================] - 2s 5ms/step - loss: 1.3131e-05 - val_loss: 2.1261e-04\n",
      "Epoch 103/250\n",
      "396/396 [==============================] - 2s 4ms/step - loss: 1.3037e-05 - val_loss: 2.1284e-04\n",
      "Epoch 104/250\n",
      "396/396 [==============================] - 2s 5ms/step - loss: 1.2316e-05 - val_loss: 2.1468e-04\n",
      "Epoch 105/250\n",
      "396/396 [==============================] - 2s 4ms/step - loss: 1.2522e-05 - val_loss: 2.0513e-04\n",
      "Epoch 106/250\n",
      "396/396 [==============================] - 2s 5ms/step - loss: 1.2785e-05 - val_loss: 2.1161e-04\n",
      "Epoch 107/250\n",
      "396/396 [==============================] - 2s 5ms/step - loss: 1.2281e-05 - val_loss: 2.0481e-04\n",
      "Epoch 108/250\n",
      "396/396 [==============================] - 2s 5ms/step - loss: 1.2637e-05 - val_loss: 2.0539e-04\n",
      "Epoch 109/250\n",
      "396/396 [==============================] - 2s 5ms/step - loss: 1.1851e-05 - val_loss: 2.0296e-04\n",
      "Epoch 110/250\n",
      "396/396 [==============================] - 2s 5ms/step - loss: 1.2379e-05 - val_loss: 2.0016e-04\n",
      "Epoch 111/250\n",
      "396/396 [==============================] - 2s 5ms/step - loss: 1.2947e-05 - val_loss: 1.9588e-04\n",
      "Epoch 112/250\n",
      "396/396 [==============================] - 2s 5ms/step - loss: 1.2983e-05 - val_loss: 2.0151e-04\n",
      "Epoch 113/250\n",
      "396/396 [==============================] - 2s 4ms/step - loss: 1.2086e-05 - val_loss: 1.9735e-04\n",
      "Epoch 114/250\n",
      "396/396 [==============================] - 2s 5ms/step - loss: 1.2492e-05 - val_loss: 2.0756e-04\n",
      "Epoch 115/250\n",
      "396/396 [==============================] - 2s 5ms/step - loss: 1.2337e-05 - val_loss: 2.1222e-04\n",
      "Epoch 116/250\n",
      "396/396 [==============================] - 2s 6ms/step - loss: 1.2467e-05 - val_loss: 2.0673e-04\n",
      "Epoch 117/250\n",
      "396/396 [==============================] - 2s 5ms/step - loss: 1.1679e-05 - val_loss: 2.0314e-04\n",
      "Epoch 118/250\n",
      "396/396 [==============================] - 2s 5ms/step - loss: 1.2648e-05 - val_loss: 2.0056e-04\n",
      "Epoch 119/250\n",
      "396/396 [==============================] - 2s 5ms/step - loss: 1.3032e-05 - val_loss: 2.0295e-04\n",
      "Epoch 120/250\n",
      "396/396 [==============================] - 2s 5ms/step - loss: 1.1794e-05 - val_loss: 1.9589e-04\n",
      "Epoch 121/250\n",
      "396/396 [==============================] - 2s 5ms/step - loss: 1.2042e-05 - val_loss: 2.0261e-04\n",
      "Epoch 122/250\n",
      "396/396 [==============================] - 2s 5ms/step - loss: 1.2034e-05 - val_loss: 1.9326e-04\n",
      "Epoch 123/250\n",
      "396/396 [==============================] - 2s 5ms/step - loss: 1.1911e-05 - val_loss: 1.9840e-04\n",
      "Epoch 124/250\n",
      "396/396 [==============================] - 2s 5ms/step - loss: 1.2039e-05 - val_loss: 2.0517e-04\n",
      "Epoch 125/250\n",
      "396/396 [==============================] - 2s 5ms/step - loss: 1.1986e-05 - val_loss: 1.9939e-04\n",
      "Epoch 126/250\n",
      "396/396 [==============================] - 2s 5ms/step - loss: 1.1652e-05 - val_loss: 1.8865e-04\n",
      "Epoch 127/250\n",
      "396/396 [==============================] - 2s 5ms/step - loss: 1.1759e-05 - val_loss: 1.9485e-04\n",
      "Epoch 128/250\n",
      "396/396 [==============================] - 2s 5ms/step - loss: 1.1965e-05 - val_loss: 1.9980e-04\n",
      "Epoch 129/250\n",
      "396/396 [==============================] - 2s 5ms/step - loss: 1.1323e-05 - val_loss: 1.9690e-04\n",
      "Epoch 130/250\n",
      "396/396 [==============================] - 2s 5ms/step - loss: 1.2120e-05 - val_loss: 2.0466e-04\n",
      "Epoch 131/250\n",
      "396/396 [==============================] - 2s 5ms/step - loss: 1.1802e-05 - val_loss: 1.9789e-04\n",
      "Epoch 132/250\n",
      "396/396 [==============================] - 2s 5ms/step - loss: 1.1471e-05 - val_loss: 1.9580e-04\n",
      "Epoch 133/250\n",
      "396/396 [==============================] - 2s 5ms/step - loss: 1.1525e-05 - val_loss: 1.8750e-04\n",
      "Epoch 134/250\n",
      "396/396 [==============================] - 2s 5ms/step - loss: 1.1625e-05 - val_loss: 2.0276e-04\n",
      "Epoch 135/250\n",
      "396/396 [==============================] - 2s 5ms/step - loss: 1.2427e-05 - val_loss: 2.0338e-04\n",
      "Epoch 136/250\n",
      "396/396 [==============================] - 2s 5ms/step - loss: 1.1813e-05 - val_loss: 1.9014e-04\n",
      "Epoch 137/250\n",
      "396/396 [==============================] - 2s 5ms/step - loss: 1.1391e-05 - val_loss: 1.9126e-04\n",
      "Epoch 138/250\n",
      "396/396 [==============================] - 2s 5ms/step - loss: 1.1415e-05 - val_loss: 1.9047e-04\n",
      "Epoch 139/250\n",
      "396/396 [==============================] - 2s 5ms/step - loss: 1.1930e-05 - val_loss: 1.9916e-04\n",
      "Epoch 140/250\n",
      "396/396 [==============================] - 2s 5ms/step - loss: 1.1441e-05 - val_loss: 1.9865e-04\n",
      "Epoch 141/250\n",
      "396/396 [==============================] - 2s 5ms/step - loss: 1.0816e-05 - val_loss: 1.9395e-04\n",
      "Epoch 142/250\n",
      "396/396 [==============================] - 2s 5ms/step - loss: 1.1438e-05 - val_loss: 1.9333e-04\n",
      "Epoch 143/250\n",
      "396/396 [==============================] - 2s 5ms/step - loss: 1.1419e-05 - val_loss: 1.9405e-04\n",
      "Epoch 144/250\n",
      "396/396 [==============================] - 2s 5ms/step - loss: 1.1833e-05 - val_loss: 1.8573e-04\n",
      "Epoch 145/250\n",
      "396/396 [==============================] - 2s 5ms/step - loss: 1.2073e-05 - val_loss: 1.8928e-04\n",
      "Epoch 146/250\n",
      "396/396 [==============================] - 2s 5ms/step - loss: 1.1193e-05 - val_loss: 1.8910e-04\n",
      "Epoch 147/250\n",
      "396/396 [==============================] - 2s 5ms/step - loss: 1.0703e-05 - val_loss: 1.8842e-04\n",
      "Epoch 148/250\n",
      "396/396 [==============================] - 2s 5ms/step - loss: 1.0876e-05 - val_loss: 1.8381e-04\n",
      "Epoch 149/250\n",
      "396/396 [==============================] - 2s 5ms/step - loss: 1.1585e-05 - val_loss: 1.8893e-04\n",
      "Epoch 150/250\n"
     ]
    },
    {
     "name": "stdout",
     "output_type": "stream",
     "text": [
      "396/396 [==============================] - 2s 5ms/step - loss: 1.0324e-05 - val_loss: 1.8750e-04\n",
      "Epoch 151/250\n",
      "396/396 [==============================] - 2s 5ms/step - loss: 1.2702e-05 - val_loss: 1.9162e-04\n",
      "Epoch 152/250\n",
      "396/396 [==============================] - 2s 5ms/step - loss: 1.1486e-05 - val_loss: 1.8997e-04\n",
      "Epoch 153/250\n",
      "396/396 [==============================] - 2s 5ms/step - loss: 1.0873e-05 - val_loss: 1.8507e-04\n",
      "Epoch 154/250\n",
      "396/396 [==============================] - 2s 5ms/step - loss: 1.1127e-05 - val_loss: 1.8802e-04\n",
      "Epoch 155/250\n",
      "396/396 [==============================] - 2s 5ms/step - loss: 1.2417e-05 - val_loss: 1.8277e-04\n",
      "Epoch 156/250\n",
      "396/396 [==============================] - 2s 5ms/step - loss: 1.1453e-05 - val_loss: 1.8951e-04\n",
      "Epoch 157/250\n",
      "396/396 [==============================] - 2s 5ms/step - loss: 1.0801e-05 - val_loss: 1.7727e-04\n",
      "Epoch 158/250\n",
      "396/396 [==============================] - 2s 5ms/step - loss: 1.2229e-05 - val_loss: 1.8198e-04\n",
      "Epoch 159/250\n",
      "396/396 [==============================] - 2s 5ms/step - loss: 1.0901e-05 - val_loss: 1.7523e-04\n",
      "Epoch 160/250\n",
      "396/396 [==============================] - 2s 5ms/step - loss: 1.0450e-05 - val_loss: 1.8226e-04\n",
      "Epoch 161/250\n",
      "396/396 [==============================] - 2s 5ms/step - loss: 1.1165e-05 - val_loss: 1.8368e-04\n",
      "Epoch 162/250\n",
      "396/396 [==============================] - 2s 5ms/step - loss: 1.0924e-05 - val_loss: 1.8098e-04\n",
      "Epoch 163/250\n",
      "396/396 [==============================] - 2s 5ms/step - loss: 1.0703e-05 - val_loss: 1.7988e-04\n",
      "Epoch 164/250\n",
      "396/396 [==============================] - 2s 4ms/step - loss: 1.1216e-05 - val_loss: 1.8526e-04\n",
      "Epoch 165/250\n",
      "396/396 [==============================] - 2s 5ms/step - loss: 1.1008e-05 - val_loss: 1.7652e-04\n",
      "Epoch 166/250\n",
      "396/396 [==============================] - 2s 5ms/step - loss: 1.0481e-05 - val_loss: 1.8535e-04\n",
      "Epoch 167/250\n",
      "396/396 [==============================] - 2s 4ms/step - loss: 1.0907e-05 - val_loss: 1.8276e-04\n",
      "Epoch 168/250\n",
      "396/396 [==============================] - 2s 5ms/step - loss: 1.0394e-05 - val_loss: 1.8463e-04\n",
      "Epoch 169/250\n",
      "396/396 [==============================] - 2s 5ms/step - loss: 1.0869e-05 - val_loss: 1.8282e-04\n",
      "Epoch 170/250\n",
      "396/396 [==============================] - 2s 5ms/step - loss: 1.0731e-05 - val_loss: 1.8420e-04\n",
      "Epoch 171/250\n",
      "396/396 [==============================] - 2s 5ms/step - loss: 1.1328e-05 - val_loss: 1.8843e-04\n",
      "Epoch 172/250\n",
      "396/396 [==============================] - 2s 5ms/step - loss: 1.0542e-05 - val_loss: 1.8245e-04\n",
      "Epoch 173/250\n",
      "396/396 [==============================] - 2s 5ms/step - loss: 1.1449e-05 - val_loss: 1.7236e-04\n",
      "Epoch 174/250\n",
      "396/396 [==============================] - 2s 5ms/step - loss: 1.0813e-05 - val_loss: 1.7201e-04\n",
      "Epoch 175/250\n",
      "396/396 [==============================] - 2s 5ms/step - loss: 1.0895e-05 - val_loss: 1.7753e-04\n",
      "Epoch 176/250\n",
      "396/396 [==============================] - 2s 5ms/step - loss: 1.0344e-05 - val_loss: 1.7694e-04\n",
      "Epoch 177/250\n",
      "396/396 [==============================] - 2s 5ms/step - loss: 1.0686e-05 - val_loss: 1.7550e-04\n",
      "Epoch 178/250\n",
      "396/396 [==============================] - 2s 5ms/step - loss: 1.0941e-05 - val_loss: 1.7587e-04\n",
      "Epoch 179/250\n",
      "396/396 [==============================] - 2s 5ms/step - loss: 1.1331e-05 - val_loss: 1.7614e-04\n",
      "Epoch 180/250\n",
      "396/396 [==============================] - 2s 5ms/step - loss: 1.1031e-05 - val_loss: 1.8314e-04\n",
      "Epoch 181/250\n",
      "396/396 [==============================] - 2s 5ms/step - loss: 1.1261e-05 - val_loss: 1.8218e-04\n",
      "Epoch 182/250\n",
      "396/396 [==============================] - 2s 5ms/step - loss: 1.1388e-05 - val_loss: 1.7426e-04\n",
      "Epoch 183/250\n",
      "396/396 [==============================] - 2s 5ms/step - loss: 1.0897e-05 - val_loss: 1.7812e-04\n",
      "Epoch 184/250\n",
      "396/396 [==============================] - 2s 5ms/step - loss: 1.0284e-05 - val_loss: 1.7699e-04\n",
      "Epoch 185/250\n",
      "396/396 [==============================] - 2s 5ms/step - loss: 1.0879e-05 - val_loss: 1.7691e-04\n",
      "Epoch 186/250\n",
      "396/396 [==============================] - 2s 5ms/step - loss: 1.0447e-05 - val_loss: 1.7235e-04\n",
      "Epoch 187/250\n",
      "396/396 [==============================] - 2s 5ms/step - loss: 1.0414e-05 - val_loss: 1.7274e-04\n",
      "Epoch 188/250\n",
      "396/396 [==============================] - 2s 5ms/step - loss: 1.0589e-05 - val_loss: 1.6454e-04\n",
      "Epoch 189/250\n",
      "396/396 [==============================] - 2s 5ms/step - loss: 1.0621e-05 - val_loss: 1.6662e-04\n",
      "Epoch 190/250\n",
      "396/396 [==============================] - 2s 5ms/step - loss: 1.0659e-05 - val_loss: 1.6478e-04\n",
      "Epoch 191/250\n",
      "396/396 [==============================] - 2s 5ms/step - loss: 1.0386e-05 - val_loss: 1.6994e-04\n",
      "Epoch 192/250\n",
      "396/396 [==============================] - 2s 5ms/step - loss: 1.0750e-05 - val_loss: 1.6629e-04\n",
      "Epoch 193/250\n",
      "396/396 [==============================] - 2s 5ms/step - loss: 9.7722e-06 - val_loss: 1.7393e-04\n",
      "Epoch 194/250\n",
      "396/396 [==============================] - 2s 5ms/step - loss: 1.0946e-05 - val_loss: 1.7196e-04\n",
      "Epoch 195/250\n",
      "396/396 [==============================] - 2s 5ms/step - loss: 1.0091e-05 - val_loss: 1.6870e-04\n",
      "Epoch 196/250\n",
      "396/396 [==============================] - 2s 5ms/step - loss: 1.1270e-05 - val_loss: 1.7464e-04\n",
      "Epoch 197/250\n",
      "396/396 [==============================] - 2s 5ms/step - loss: 1.0740e-05 - val_loss: 1.7177e-04\n",
      "Epoch 198/250\n",
      "396/396 [==============================] - 2s 5ms/step - loss: 1.0618e-05 - val_loss: 1.7006e-04\n",
      "Epoch 199/250\n",
      "396/396 [==============================] - 2s 5ms/step - loss: 1.0144e-05 - val_loss: 1.6388e-04\n",
      "Epoch 200/250\n",
      "396/396 [==============================] - 2s 5ms/step - loss: 1.0310e-05 - val_loss: 1.6077e-04\n",
      "Epoch 201/250\n",
      "396/396 [==============================] - 2s 5ms/step - loss: 1.0097e-05 - val_loss: 1.6826e-04\n",
      "Epoch 202/250\n",
      "396/396 [==============================] - 2s 5ms/step - loss: 1.0846e-05 - val_loss: 1.6635e-04\n",
      "Epoch 203/250\n",
      "396/396 [==============================] - 2s 5ms/step - loss: 1.0873e-05 - val_loss: 1.6282e-04\n",
      "Epoch 204/250\n",
      "396/396 [==============================] - 2s 5ms/step - loss: 1.0173e-05 - val_loss: 1.6517e-04\n",
      "Epoch 205/250\n",
      "396/396 [==============================] - 2s 5ms/step - loss: 9.9342e-06 - val_loss: 1.6547e-04\n",
      "Epoch 206/250\n",
      "396/396 [==============================] - 2s 5ms/step - loss: 9.9525e-06 - val_loss: 1.6835e-04\n",
      "Epoch 207/250\n",
      "396/396 [==============================] - 2s 5ms/step - loss: 1.0579e-05 - val_loss: 1.6620e-04\n",
      "Epoch 208/250\n",
      "396/396 [==============================] - 2s 5ms/step - loss: 1.0175e-05 - val_loss: 1.6963e-04\n",
      "Epoch 209/250\n",
      "396/396 [==============================] - 2s 5ms/step - loss: 1.0905e-05 - val_loss: 1.6576e-04\n",
      "Epoch 210/250\n",
      "396/396 [==============================] - 2s 5ms/step - loss: 1.0398e-05 - val_loss: 1.6488e-04\n",
      "Epoch 211/250\n",
      "396/396 [==============================] - 2s 5ms/step - loss: 1.0192e-05 - val_loss: 1.6180e-04\n",
      "Epoch 212/250\n",
      "396/396 [==============================] - 2s 5ms/step - loss: 1.0713e-05 - val_loss: 1.6204e-04\n",
      "Epoch 213/250\n",
      "396/396 [==============================] - 2s 5ms/step - loss: 9.6969e-06 - val_loss: 1.5890e-04\n",
      "Epoch 214/250\n",
      "396/396 [==============================] - 2s 5ms/step - loss: 1.0044e-05 - val_loss: 1.5927e-04\n",
      "Epoch 215/250\n",
      "396/396 [==============================] - 2s 6ms/step - loss: 1.0689e-05 - val_loss: 1.6574e-04\n",
      "Epoch 216/250\n",
      "396/396 [==============================] - 2s 6ms/step - loss: 1.0270e-05 - val_loss: 1.6132e-04\n",
      "Epoch 217/250\n",
      "396/396 [==============================] - 2s 6ms/step - loss: 1.0417e-05 - val_loss: 1.6004e-04\n",
      "Epoch 218/250\n",
      "396/396 [==============================] - 3s 8ms/step - loss: 9.8419e-06 - val_loss: 1.6122e-04\n",
      "Epoch 219/250\n",
      "396/396 [==============================] - 2s 5ms/step - loss: 9.9513e-06 - val_loss: 1.5767e-04\n",
      "Epoch 220/250\n",
      "396/396 [==============================] - 2s 6ms/step - loss: 1.0403e-05 - val_loss: 1.6359e-04\n",
      "Epoch 221/250\n",
      "396/396 [==============================] - 2s 6ms/step - loss: 1.0085e-05 - val_loss: 1.5686e-04\n",
      "Epoch 222/250\n",
      "396/396 [==============================] - 3s 6ms/step - loss: 9.9171e-06 - val_loss: 1.6112e-04\n",
      "Epoch 223/250\n",
      "396/396 [==============================] - 2s 5ms/step - loss: 1.0163e-05 - val_loss: 1.6373e-04\n"
     ]
    },
    {
     "name": "stdout",
     "output_type": "stream",
     "text": [
      "Epoch 224/250\n",
      "396/396 [==============================] - 2s 5ms/step - loss: 9.6542e-06 - val_loss: 1.5988e-04\n",
      "Epoch 225/250\n",
      "396/396 [==============================] - 2s 5ms/step - loss: 9.9714e-06 - val_loss: 1.6121e-04\n",
      "Epoch 226/250\n",
      "396/396 [==============================] - 2s 5ms/step - loss: 9.6367e-06 - val_loss: 1.5810e-04\n",
      "Epoch 227/250\n",
      "396/396 [==============================] - 2s 5ms/step - loss: 1.0023e-05 - val_loss: 1.5952e-04\n",
      "Epoch 228/250\n",
      "396/396 [==============================] - 2s 5ms/step - loss: 9.7969e-06 - val_loss: 1.5850e-04\n",
      "Epoch 229/250\n",
      "396/396 [==============================] - 2s 5ms/step - loss: 1.0216e-05 - val_loss: 1.5503e-04\n",
      "Epoch 230/250\n",
      "396/396 [==============================] - 2s 5ms/step - loss: 1.0046e-05 - val_loss: 1.6973e-04\n",
      "Epoch 231/250\n",
      "396/396 [==============================] - 2s 5ms/step - loss: 1.0189e-05 - val_loss: 1.6598e-04\n",
      "Epoch 232/250\n",
      "396/396 [==============================] - 2s 5ms/step - loss: 1.0694e-05 - val_loss: 1.5910e-04\n",
      "Epoch 233/250\n",
      "396/396 [==============================] - 2s 5ms/step - loss: 1.0028e-05 - val_loss: 1.5966e-04\n",
      "Epoch 234/250\n",
      "396/396 [==============================] - 2s 5ms/step - loss: 9.9262e-06 - val_loss: 1.6147e-04\n",
      "Epoch 235/250\n",
      "396/396 [==============================] - 2s 5ms/step - loss: 1.0353e-05 - val_loss: 1.5685e-04\n",
      "Epoch 236/250\n",
      "396/396 [==============================] - 2s 5ms/step - loss: 9.5757e-06 - val_loss: 1.5902e-04\n",
      "Epoch 237/250\n",
      "396/396 [==============================] - 2s 5ms/step - loss: 1.0017e-05 - val_loss: 1.5385e-04\n",
      "Epoch 238/250\n",
      "396/396 [==============================] - 2s 5ms/step - loss: 9.5338e-06 - val_loss: 1.5511e-04\n",
      "Epoch 239/250\n",
      "396/396 [==============================] - 2s 5ms/step - loss: 9.9769e-06 - val_loss: 1.5163e-04\n",
      "Epoch 240/250\n",
      "396/396 [==============================] - 2s 5ms/step - loss: 1.0424e-05 - val_loss: 1.5503e-04\n",
      "Epoch 241/250\n",
      "396/396 [==============================] - 2s 5ms/step - loss: 1.0055e-05 - val_loss: 1.4926e-04\n",
      "Epoch 242/250\n",
      "396/396 [==============================] - 2s 5ms/step - loss: 1.0315e-05 - val_loss: 1.4548e-04\n",
      "Epoch 243/250\n",
      "396/396 [==============================] - 2s 5ms/step - loss: 1.0413e-05 - val_loss: 1.5968e-04\n",
      "Epoch 244/250\n",
      "396/396 [==============================] - 2s 5ms/step - loss: 1.0584e-05 - val_loss: 1.5519e-04\n",
      "Epoch 245/250\n",
      "396/396 [==============================] - 2s 5ms/step - loss: 1.0504e-05 - val_loss: 1.5032e-04\n",
      "Epoch 246/250\n",
      "396/396 [==============================] - 2s 6ms/step - loss: 9.6104e-06 - val_loss: 1.4435e-04\n",
      "Epoch 247/250\n",
      "396/396 [==============================] - 2s 6ms/step - loss: 1.0248e-05 - val_loss: 1.4538e-04\n",
      "Epoch 248/250\n",
      "396/396 [==============================] - 2s 6ms/step - loss: 9.6902e-06 - val_loss: 1.5138e-04\n",
      "Epoch 249/250\n",
      "396/396 [==============================] - 2s 5ms/step - loss: 9.6298e-06 - val_loss: 1.5045e-04\n",
      "Epoch 250/250\n",
      "396/396 [==============================] - 2s 4ms/step - loss: 1.0116e-05 - val_loss: 1.4920e-04\n"
     ]
    }
   ],
   "source": [
    "# use training df to train the model\n",
    "history = model.fit(x_train, y_train, validation_split = 0.1, \n",
    "                    batch_size = batch_s, epochs = epochs, \n",
    "                    shuffle = False)"
   ]
  },
  {
   "cell_type": "code",
   "execution_count": 76,
   "id": "afraid-nurse",
   "metadata": {
    "execution": {
     "iopub.execute_input": "2021-04-20T17:30:29.156425Z",
     "iopub.status.busy": "2021-04-20T17:30:29.155727Z",
     "iopub.status.idle": "2021-04-20T17:30:29.352199Z",
     "shell.execute_reply": "2021-04-20T17:30:29.351657Z"
    },
    "papermill": {
     "duration": 3.180369,
     "end_time": "2021-04-20T17:30:29.352353",
     "exception": false,
     "start_time": "2021-04-20T17:30:26.171984",
     "status": "completed"
    },
    "tags": []
   },
   "outputs": [
    {
     "data": {
      "image/png": "[encoded data removed]",
      "text/plain": [
       "<Figure size 1440x432 with 1 Axes>"
      ]
     },
     "metadata": {
      "needs_background": "light"
     },
     "output_type": "display_data"
    }
   ],
   "source": [
    "# Training Loss vs Val loss\n",
    "loss        = history.history['loss']\n",
    "val_loss    = history.history['val_loss']\n",
    "epoch       = range(len(loss))\n",
    "\n",
    "# plot\n",
    "plt.figure(figsize=(20,6))\n",
    "plt.plot(epoch, loss, 'b', label='Training Loss')\n",
    "plt.plot(epoch, val_loss, 'r', label='Validation Loss')\n",
    "plt.title('Training & Validation Loss', fontsize=20, fontweight='bold')\n",
    "plt.legend()\n",
    "plt.show()"
   ]
  },
  {
   "cell_type": "markdown",
   "id": "unsigned-insider",
   "metadata": {
    "papermill": {
     "duration": 2.962823,
     "end_time": "2021-04-20T17:30:35.384058",
     "exception": false,
     "start_time": "2021-04-20T17:30:32.421235",
     "status": "completed"
    },
    "tags": []
   },
   "source": [
    "## Step 5 : Perdictions"
   ]
  },
  {
   "cell_type": "code",
   "execution_count": 77,
   "id": "rental-hollow",
   "metadata": {
    "execution": {
     "iopub.execute_input": "2021-04-20T17:30:41.431975Z",
     "iopub.status.busy": "2021-04-20T17:30:41.431277Z",
     "iopub.status.idle": "2021-04-20T17:30:41.952473Z",
     "shell.execute_reply": "2021-04-20T17:30:41.950990Z"
    },
    "papermill": {
     "duration": 3.633559,
     "end_time": "2021-04-20T17:30:41.952686",
     "exception": false,
     "start_time": "2021-04-20T17:30:38.319127",
     "status": "completed"
    },
    "tags": []
   },
   "outputs": [
    {
     "data": {
      "image/png": "[encoded data removed]",
      "text/plain": [
       "<Figure size 1440x432 with 1 Axes>"
      ]
     },
     "metadata": {
      "needs_background": "light"
     },
     "output_type": "display_data"
    }
   ],
   "source": [
    "# Parameters\n",
    "original = pd.DataFrame(MMScaler.inverse_transform(y_test))\n",
    "pred = pd.DataFrame(MMScaler.inverse_transform(model.predict(x_test)))\n",
    "original_index = range(original.index.start,original.index.stop)\n",
    "perd_index = range(pred.index.start,pred.index.stop)\n",
    "\n",
    "# plot\n",
    "plt.figure(figsize=(20,6))\n",
    "plt.plot(original_index, original[0], 'b', label = 'Test Data')\n",
    "plt.plot(perd_index, pred[0], 'r', label = 'Predication Data')\n",
    "plt.title('Test vs Predication Data', fontsize = 20, fontweight = 'bold')\n",
    "plt.xlabel('Days')\n",
    "plt.ylabel('Price (USD)')\n",
    "plt.legend()\n",
    "plt.show()"
   ]
  },
  {
   "cell_type": "code",
   "execution_count": 78,
   "id": "compatible-embassy",
   "metadata": {
    "execution": {
     "iopub.execute_input": "2021-04-20T17:30:47.931822Z",
     "iopub.status.busy": "2021-04-20T17:30:47.931056Z",
     "iopub.status.idle": "2021-04-20T17:30:47.963801Z",
     "shell.execute_reply": "2021-04-20T17:30:47.962929Z"
    },
    "papermill": {
     "duration": 3.064408,
     "end_time": "2021-04-20T17:30:47.964046",
     "exception": false,
     "start_time": "2021-04-20T17:30:44.899638",
     "status": "completed"
    },
    "tags": []
   },
   "outputs": [
    {
     "name": "stdout",
     "output_type": "stream",
     "text": [
      "Model Accuracy is 98.23%\n"
     ]
    }
   ],
   "source": [
    "# print(original.sum(),pred.sum())\n",
    "accuracy = round(((pred.sum() / original.sum())*100).iloc[0], 2)\n",
    "print(f'Model Accuracy is {accuracy}%')"
   ]
  },
  {
   "cell_type": "code",
   "execution_count": null,
   "id": "atlantic-millennium",
   "metadata": {},
   "outputs": [],
   "source": []
  }
 ],
 "metadata": {
  "kernelspec": {
   "display_name": "Python 3",
   "language": "python",
   "name": "python3"
  },
  "language_info": {
   "codemirror_mode": {
    "name": "ipython",
    "version": 3
   },
   "file_extension": ".py",
   "mimetype": "text/x-python",
   "name": "python",
   "nbconvert_exporter": "python",
   "pygments_lexer": "ipython3",
   "version": "3.7.9"
  },
  "papermill": {
   "default_parameters": {},
   "duration": 569.728989,
   "end_time": "2021-04-20T17:30:52.626616",
   "environment_variables": {},
   "exception": null,
   "input_path": "__notebook__.ipynb",
   "output_path": "__notebook__.ipynb",
   "parameters": {},
   "start_time": "2021-04-20T17:21:22.897627",
   "version": "2.3.2"
  }
 },
 "nbformat": 4,
 "nbformat_minor": 5
}
